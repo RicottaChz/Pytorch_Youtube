{
  "nbformat": 4,
  "nbformat_minor": 0,
  "metadata": {
    "colab": {
      "provenance": [],
      "gpuType": "T4",
      "authorship_tag": "ABX9TyMmRF8RpWLJJD+mv9J+M83J",
      "include_colab_link": true
    },
    "kernelspec": {
      "name": "python3",
      "display_name": "Python 3"
    },
    "language_info": {
      "name": "python"
    },
    "accelerator": "GPU"
  },
  "cells": [
    {
      "cell_type": "markdown",
      "metadata": {
        "id": "view-in-github",
        "colab_type": "text"
      },
      "source": [
        "<a href=\"https://colab.research.google.com/github/RicottaChz/Pytorch_Youtube/blob/main/cifar10.ipynb\" target=\"_parent\"><img src=\"https://colab.research.google.com/assets/colab-badge.svg\" alt=\"Open In Colab\"/></a>"
      ]
    },
    {
      "cell_type": "code",
      "execution_count": null,
      "metadata": {
        "id": "OkDWEGo69aQz"
      },
      "outputs": [],
      "source": [
        "# transformer, attention, universial approximation thm"
      ]
    },
    {
      "cell_type": "code",
      "source": [
        "import torch\n",
        "import torchvision\n",
        "import torchvision.transforms as transforms"
      ],
      "metadata": {
        "id": "637-0mvhLCB2"
      },
      "execution_count": null,
      "outputs": []
    },
    {
      "cell_type": "code",
      "source": [
        "transform = transforms.Compose(\n",
        "    [transforms.ToTensor(),\n",
        "     transforms.Normalize((0.5, 0.5, 0.5), (0.5, 0.5, 0.5))])\n",
        "\n",
        "trainset = torchvision.datasets.CIFAR10(root='./data', train=True,\n",
        "                                        download=True, transform=transform)\n",
        "trainloader = torch.utils.data.DataLoader(trainset, batch_size=4,\n",
        "                                          shuffle=True, num_workers=2)\n",
        "testset = torchvision.datasets.CIFAR10(root='./data', train=False,\n",
        "                                       download=True, transform=transform)\n",
        "testloader = torch.utils.data.DataLoader(testset, batch_size=4,\n",
        "                                         shuffle=False, num_workers=2)\n",
        "\n",
        "classes = ('plane', 'car', 'bird', 'cat',\n",
        "           'deer', 'dog', 'frog', 'horse', 'ship', 'truck')"
      ],
      "metadata": {
        "colab": {
          "base_uri": "https://localhost:8080/"
        },
        "id": "hnndGb1DLC9W",
        "outputId": "cd4fff51-893c-4e6d-a528-912e5e43afac"
      },
      "execution_count": null,
      "outputs": [
        {
          "output_type": "stream",
          "name": "stdout",
          "text": [
            "Downloading https://www.cs.toronto.edu/~kriz/cifar-10-python.tar.gz to ./data/cifar-10-python.tar.gz\n"
          ]
        },
        {
          "output_type": "stream",
          "name": "stderr",
          "text": [
            "100%|██████████| 170498071/170498071 [00:10<00:00, 15637356.22it/s]\n"
          ]
        },
        {
          "output_type": "stream",
          "name": "stdout",
          "text": [
            "Extracting ./data/cifar-10-python.tar.gz to ./data\n",
            "Files already downloaded and verified\n"
          ]
        }
      ]
    },
    {
      "cell_type": "code",
      "source": [
        "import torch.nn as nn\n",
        "import torch.nn.functional as F"
      ],
      "metadata": {
        "id": "c7EjY0w6QTxL"
      },
      "execution_count": null,
      "outputs": []
    },
    {
      "cell_type": "code",
      "source": [
        "class Model(nn.Module):\n",
        "  def __init__(self):\n",
        "    super().__init__()\n",
        "    self.conv1 = nn.Conv2d(3, 6, 5)\n",
        "    self.pool = nn.MaxPool2d(2, 2)\n",
        "    self.conv2 = nn.Conv2d(6, 16, 5)\n",
        "    self.fc1 = nn.Linear(16*5*5, 120)\n",
        "    self.fc2 = nn.Linear(120, 84)\n",
        "    self.out = nn.Linear(84, 10)\n",
        "\n",
        "  def forward(self, x):\n",
        "    x = self.pool(F.relu(self.conv1(x)))\n",
        "    x = self.pool(F.relu(self.conv2(x)))\n",
        "    x = x.view(-1, 16*5*5)\n",
        "    x = F.relu(self.fc1(x))\n",
        "    x = F.relu(self.fc2(x))\n",
        "    x = self.out(x)\n",
        "    return x"
      ],
      "metadata": {
        "id": "i99cwJ_qQYIz"
      },
      "execution_count": null,
      "outputs": []
    },
    {
      "cell_type": "code",
      "source": [
        "model = Model()"
      ],
      "metadata": {
        "id": "YjRTQHOzSxNj"
      },
      "execution_count": null,
      "outputs": []
    },
    {
      "cell_type": "code",
      "source": [
        "import torch.optim as optim\n",
        "\n",
        "criterion = nn.CrossEntropyLoss()\n",
        "optimizer = optim.Adam(model.parameters(), lr=0.001)"
      ],
      "metadata": {
        "id": "Y9pDSNuwTBw8"
      },
      "execution_count": null,
      "outputs": []
    },
    {
      "cell_type": "code",
      "source": [
        "epochs = 5\n",
        "\n",
        "for epoch in range(epochs):\n",
        "  losses = 0.0\n",
        "  for i, data in enumerate(trainloader, 0):\n",
        "    inputs, labels = data\n",
        "\n",
        "    outputs = model(inputs)\n",
        "\n",
        "    loss = criterion(outputs, labels.long())\n",
        "    optimizer.zero_grad()\n",
        "    loss.backward()\n",
        "    optimizer.step()\n",
        "\n",
        "    if i % 2000 == 1999:\n",
        "      print(f'Epoch: {epoch + 1}, Batch: {i + 1}, Loss: {loss.item()}')\n",
        "      losses = 0.0\n"
      ],
      "metadata": {
        "colab": {
          "base_uri": "https://localhost:8080/"
        },
        "id": "UaDuYGoeTVYw",
        "outputId": "ddd29b80-f044-4455-84fc-e74ebc0297c6"
      },
      "execution_count": null,
      "outputs": [
        {
          "output_type": "stream",
          "name": "stdout",
          "text": [
            "Epoch: 1, Batch: 2000, Loss: 1.0681833028793335\n",
            "Epoch: 1, Batch: 4000, Loss: 2.0445024967193604\n",
            "Epoch: 1, Batch: 6000, Loss: 1.339385747909546\n",
            "Epoch: 1, Batch: 8000, Loss: 1.6299145221710205\n",
            "Epoch: 1, Batch: 10000, Loss: 0.784845232963562\n",
            "Epoch: 1, Batch: 12000, Loss: 1.3392927646636963\n",
            "Epoch: 2, Batch: 2000, Loss: 1.4874615669250488\n",
            "Epoch: 2, Batch: 4000, Loss: 0.6602450013160706\n",
            "Epoch: 2, Batch: 6000, Loss: 0.6687097549438477\n",
            "Epoch: 2, Batch: 8000, Loss: 0.4656561315059662\n",
            "Epoch: 2, Batch: 10000, Loss: 1.2549257278442383\n",
            "Epoch: 2, Batch: 12000, Loss: 1.2345223426818848\n",
            "Epoch: 3, Batch: 2000, Loss: 1.745337963104248\n",
            "Epoch: 3, Batch: 4000, Loss: 1.568719744682312\n",
            "Epoch: 3, Batch: 6000, Loss: 1.2978622913360596\n",
            "Epoch: 3, Batch: 8000, Loss: 2.176421642303467\n",
            "Epoch: 3, Batch: 10000, Loss: 1.2184562683105469\n",
            "Epoch: 3, Batch: 12000, Loss: 1.2376353740692139\n",
            "Epoch: 4, Batch: 2000, Loss: 0.8429399132728577\n",
            "Epoch: 4, Batch: 4000, Loss: 1.1839860677719116\n",
            "Epoch: 4, Batch: 6000, Loss: 1.5635217428207397\n",
            "Epoch: 4, Batch: 8000, Loss: 1.690319538116455\n",
            "Epoch: 4, Batch: 10000, Loss: 1.352733850479126\n",
            "Epoch: 4, Batch: 12000, Loss: 0.8179565072059631\n",
            "Epoch: 5, Batch: 2000, Loss: 1.0943742990493774\n",
            "Epoch: 5, Batch: 4000, Loss: 1.2714738845825195\n",
            "Epoch: 5, Batch: 6000, Loss: 0.8188092708587646\n",
            "Epoch: 5, Batch: 8000, Loss: 0.8700764179229736\n",
            "Epoch: 5, Batch: 10000, Loss: 0.6151400208473206\n",
            "Epoch: 5, Batch: 12000, Loss: 0.6477464437484741\n"
          ]
        }
      ]
    },
    {
      "cell_type": "code",
      "source": [
        "correct = 0\n",
        "total = 0\n",
        "with torch.no_grad():\n",
        "    for data in testloader:\n",
        "        images, labels = data\n",
        "        outputs = model(images)\n",
        "        _, predicted = torch.max(outputs.data, 1)\n",
        "        total += labels.size(0)\n",
        "        correct += (predicted == labels).sum().item()\n",
        "\n",
        "print('Accuracy of the network on the 10000 test images: %d %%' % (\n",
        "    100 * correct / total))"
      ],
      "metadata": {
        "colab": {
          "base_uri": "https://localhost:8080/"
        },
        "id": "p45KeXx6ZY0B",
        "outputId": "c578c8de-25ba-483d-d379-a041990bc721"
      },
      "execution_count": null,
      "outputs": [
        {
          "output_type": "stream",
          "name": "stdout",
          "text": [
            "Accuracy of the network on the 10000 test images: 59 %\n"
          ]
        }
      ]
    },
    {
      "cell_type": "code",
      "source": [
        "class_correct = list(0. for i in range(10))\n",
        "class_total = list(0. for i in range(10))\n",
        "with torch.no_grad():\n",
        "    for data in testloader:\n",
        "        images, labels = data\n",
        "        outputs = model(images)\n",
        "        _, predicted = torch.max(outputs, 1)\n",
        "        c = (predicted == labels).squeeze()\n",
        "        for i in range(4):\n",
        "            label = labels[i]\n",
        "            class_correct[label] += c[i].item()\n",
        "            class_total[label] += 1\n",
        "\n",
        "\n",
        "for i in range(10):\n",
        "    print('Accuracy of %5s : %2d %%' % (\n",
        "        classes[i], 100 * class_correct[i] / class_total[i]))"
      ],
      "metadata": {
        "colab": {
          "base_uri": "https://localhost:8080/"
        },
        "id": "5Kx_8JT-fwCO",
        "outputId": "8b8fac80-dcaf-4362-fcc2-3ae14c306797"
      },
      "execution_count": null,
      "outputs": [
        {
          "output_type": "stream",
          "name": "stdout",
          "text": [
            "Accuracy of plane : 63 %\n",
            "Accuracy of   car : 65 %\n",
            "Accuracy of  bird : 46 %\n",
            "Accuracy of   cat : 56 %\n",
            "Accuracy of  deer : 51 %\n",
            "Accuracy of   dog : 35 %\n",
            "Accuracy of  frog : 55 %\n",
            "Accuracy of horse : 70 %\n",
            "Accuracy of  ship : 83 %\n",
            "Accuracy of truck : 71 %\n"
          ]
        }
      ]
    },
    {
      "cell_type": "code",
      "source": [],
      "metadata": {
        "id": "v1gWLWwngCtj"
      },
      "execution_count": null,
      "outputs": []
    }
  ]
}